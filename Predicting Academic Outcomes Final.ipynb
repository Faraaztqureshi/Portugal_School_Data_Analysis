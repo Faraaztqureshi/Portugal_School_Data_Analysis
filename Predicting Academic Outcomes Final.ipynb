{
 "cells": [
  {
   "cell_type": "markdown",
   "metadata": {},
   "source": [
    "# Get the Data"
   ]
  },
  {
   "cell_type": "code",
   "execution_count": 1,
   "metadata": {},
   "outputs": [],
   "source": [
    "## import libraries\n",
    "import numpy as np\n",
    "import pandas as pd\n",
    "import matplotlib.pyplot as plt\n",
    "import seaborn as sns"
   ]
  },
  {
   "cell_type": "code",
   "execution_count": 2,
   "metadata": {},
   "outputs": [],
   "source": [
    "## get the data from csv\n",
    "df = pd.read_csv(\"student_mat.csv\", sep=';')"
   ]
  },
  {
   "cell_type": "code",
   "execution_count": 3,
   "metadata": {},
   "outputs": [
    {
     "data": {
      "text/html": [
       "<div>\n",
       "<style scoped>\n",
       "    .dataframe tbody tr th:only-of-type {\n",
       "        vertical-align: middle;\n",
       "    }\n",
       "\n",
       "    .dataframe tbody tr th {\n",
       "        vertical-align: top;\n",
       "    }\n",
       "\n",
       "    .dataframe thead th {\n",
       "        text-align: right;\n",
       "    }\n",
       "</style>\n",
       "<table border=\"1\" class=\"dataframe\">\n",
       "  <thead>\n",
       "    <tr style=\"text-align: right;\">\n",
       "      <th></th>\n",
       "      <th>school</th>\n",
       "      <th>sex</th>\n",
       "      <th>age</th>\n",
       "      <th>address</th>\n",
       "      <th>famsize</th>\n",
       "      <th>Pstatus</th>\n",
       "      <th>Medu</th>\n",
       "      <th>Fedu</th>\n",
       "      <th>Mjob</th>\n",
       "      <th>Fjob</th>\n",
       "      <th>...</th>\n",
       "      <th>famrel</th>\n",
       "      <th>freetime</th>\n",
       "      <th>goout</th>\n",
       "      <th>Dalc</th>\n",
       "      <th>Walc</th>\n",
       "      <th>health</th>\n",
       "      <th>absences</th>\n",
       "      <th>G1</th>\n",
       "      <th>G2</th>\n",
       "      <th>G3</th>\n",
       "    </tr>\n",
       "  </thead>\n",
       "  <tbody>\n",
       "    <tr>\n",
       "      <td>0</td>\n",
       "      <td>GP</td>\n",
       "      <td>F</td>\n",
       "      <td>18</td>\n",
       "      <td>U</td>\n",
       "      <td>GT3</td>\n",
       "      <td>A</td>\n",
       "      <td>4</td>\n",
       "      <td>4</td>\n",
       "      <td>at_home</td>\n",
       "      <td>teacher</td>\n",
       "      <td>...</td>\n",
       "      <td>4</td>\n",
       "      <td>3</td>\n",
       "      <td>4</td>\n",
       "      <td>1</td>\n",
       "      <td>1</td>\n",
       "      <td>3</td>\n",
       "      <td>6</td>\n",
       "      <td>5</td>\n",
       "      <td>6</td>\n",
       "      <td>6</td>\n",
       "    </tr>\n",
       "    <tr>\n",
       "      <td>1</td>\n",
       "      <td>GP</td>\n",
       "      <td>F</td>\n",
       "      <td>17</td>\n",
       "      <td>U</td>\n",
       "      <td>GT3</td>\n",
       "      <td>T</td>\n",
       "      <td>1</td>\n",
       "      <td>1</td>\n",
       "      <td>at_home</td>\n",
       "      <td>other</td>\n",
       "      <td>...</td>\n",
       "      <td>5</td>\n",
       "      <td>3</td>\n",
       "      <td>3</td>\n",
       "      <td>1</td>\n",
       "      <td>1</td>\n",
       "      <td>3</td>\n",
       "      <td>4</td>\n",
       "      <td>5</td>\n",
       "      <td>5</td>\n",
       "      <td>6</td>\n",
       "    </tr>\n",
       "    <tr>\n",
       "      <td>2</td>\n",
       "      <td>GP</td>\n",
       "      <td>F</td>\n",
       "      <td>15</td>\n",
       "      <td>U</td>\n",
       "      <td>LE3</td>\n",
       "      <td>T</td>\n",
       "      <td>1</td>\n",
       "      <td>1</td>\n",
       "      <td>at_home</td>\n",
       "      <td>other</td>\n",
       "      <td>...</td>\n",
       "      <td>4</td>\n",
       "      <td>3</td>\n",
       "      <td>2</td>\n",
       "      <td>2</td>\n",
       "      <td>3</td>\n",
       "      <td>3</td>\n",
       "      <td>10</td>\n",
       "      <td>7</td>\n",
       "      <td>8</td>\n",
       "      <td>10</td>\n",
       "    </tr>\n",
       "    <tr>\n",
       "      <td>3</td>\n",
       "      <td>GP</td>\n",
       "      <td>F</td>\n",
       "      <td>15</td>\n",
       "      <td>U</td>\n",
       "      <td>GT3</td>\n",
       "      <td>T</td>\n",
       "      <td>4</td>\n",
       "      <td>2</td>\n",
       "      <td>health</td>\n",
       "      <td>services</td>\n",
       "      <td>...</td>\n",
       "      <td>3</td>\n",
       "      <td>2</td>\n",
       "      <td>2</td>\n",
       "      <td>1</td>\n",
       "      <td>1</td>\n",
       "      <td>5</td>\n",
       "      <td>2</td>\n",
       "      <td>15</td>\n",
       "      <td>14</td>\n",
       "      <td>15</td>\n",
       "    </tr>\n",
       "    <tr>\n",
       "      <td>4</td>\n",
       "      <td>GP</td>\n",
       "      <td>F</td>\n",
       "      <td>16</td>\n",
       "      <td>U</td>\n",
       "      <td>GT3</td>\n",
       "      <td>T</td>\n",
       "      <td>3</td>\n",
       "      <td>3</td>\n",
       "      <td>other</td>\n",
       "      <td>other</td>\n",
       "      <td>...</td>\n",
       "      <td>4</td>\n",
       "      <td>3</td>\n",
       "      <td>2</td>\n",
       "      <td>1</td>\n",
       "      <td>2</td>\n",
       "      <td>5</td>\n",
       "      <td>4</td>\n",
       "      <td>6</td>\n",
       "      <td>10</td>\n",
       "      <td>10</td>\n",
       "    </tr>\n",
       "  </tbody>\n",
       "</table>\n",
       "<p>5 rows × 33 columns</p>\n",
       "</div>"
      ],
      "text/plain": [
       "  school sex  age address famsize Pstatus  Medu  Fedu     Mjob      Fjob  ...  \\\n",
       "0     GP   F   18       U     GT3       A     4     4  at_home   teacher  ...   \n",
       "1     GP   F   17       U     GT3       T     1     1  at_home     other  ...   \n",
       "2     GP   F   15       U     LE3       T     1     1  at_home     other  ...   \n",
       "3     GP   F   15       U     GT3       T     4     2   health  services  ...   \n",
       "4     GP   F   16       U     GT3       T     3     3    other     other  ...   \n",
       "\n",
       "  famrel freetime  goout  Dalc  Walc health absences  G1  G2  G3  \n",
       "0      4        3      4     1     1      3        6   5   6   6  \n",
       "1      5        3      3     1     1      3        4   5   5   6  \n",
       "2      4        3      2     2     3      3       10   7   8  10  \n",
       "3      3        2      2     1     1      5        2  15  14  15  \n",
       "4      4        3      2     1     2      5        4   6  10  10  \n",
       "\n",
       "[5 rows x 33 columns]"
      ]
     },
     "execution_count": 3,
     "metadata": {},
     "output_type": "execute_result"
    }
   ],
   "source": [
    "## inspect the dataframe\n",
    "df.head()"
   ]
  },
  {
   "cell_type": "markdown",
   "metadata": {},
   "source": [
    "# Engineer Target "
   ]
  },
  {
   "cell_type": "code",
   "execution_count": 4,
   "metadata": {},
   "outputs": [],
   "source": [
    "## engineer a an average grade feature that is an average of all three grades for the year\n",
    "## round avg grade for three years to 2 decimal places\n",
    "df['avg_grade'] = round((df['G1'] + df['G2'] + df['G3']) / 3, 2)"
   ]
  },
  {
   "cell_type": "code",
   "execution_count": 5,
   "metadata": {},
   "outputs": [
    {
     "data": {
      "text/plain": [
       "<matplotlib.axes._subplots.AxesSubplot at 0x1a1a6597d0>"
      ]
     },
     "execution_count": 5,
     "metadata": {},
     "output_type": "execute_result"
    },
    {
     "data": {
      "image/png": "[encoded data removed]",
      "text/plain": [
       "<Figure size 432x288 with 1 Axes>"
      ]
     },
     "metadata": {
      "needs_background": "light"
     },
     "output_type": "display_data"
    }
   ],
   "source": [
    "## check distribution of avg_grade for skewness\n",
    "sns.distplot(df['avg_grade'])"
   ]
  },
  {
   "cell_type": "markdown",
   "metadata": {},
   "source": [
    "## Encode Average Grade"
   ]
  },
  {
   "cell_type": "code",
   "execution_count": 6,
   "metadata": {},
   "outputs": [
    {
     "data": {
      "text/html": [
       "<div>\n",
       "<style scoped>\n",
       "    .dataframe tbody tr th:only-of-type {\n",
       "        vertical-align: middle;\n",
       "    }\n",
       "\n",
       "    .dataframe tbody tr th {\n",
       "        vertical-align: top;\n",
       "    }\n",
       "\n",
       "    .dataframe thead th {\n",
       "        text-align: right;\n",
       "    }\n",
       "</style>\n",
       "<table border=\"1\" class=\"dataframe\">\n",
       "  <thead>\n",
       "    <tr style=\"text-align: right;\">\n",
       "      <th></th>\n",
       "      <th>school</th>\n",
       "      <th>sex</th>\n",
       "      <th>age</th>\n",
       "      <th>address</th>\n",
       "      <th>famsize</th>\n",
       "      <th>Pstatus</th>\n",
       "      <th>Medu</th>\n",
       "      <th>Fedu</th>\n",
       "      <th>Mjob</th>\n",
       "      <th>Fjob</th>\n",
       "      <th>...</th>\n",
       "      <th>goout</th>\n",
       "      <th>Dalc</th>\n",
       "      <th>Walc</th>\n",
       "      <th>health</th>\n",
       "      <th>absences</th>\n",
       "      <th>G1</th>\n",
       "      <th>G2</th>\n",
       "      <th>G3</th>\n",
       "      <th>avg_grade</th>\n",
       "      <th>grade_status</th>\n",
       "    </tr>\n",
       "  </thead>\n",
       "  <tbody>\n",
       "    <tr>\n",
       "      <td>0</td>\n",
       "      <td>GP</td>\n",
       "      <td>F</td>\n",
       "      <td>18</td>\n",
       "      <td>U</td>\n",
       "      <td>GT3</td>\n",
       "      <td>A</td>\n",
       "      <td>4</td>\n",
       "      <td>4</td>\n",
       "      <td>at_home</td>\n",
       "      <td>teacher</td>\n",
       "      <td>...</td>\n",
       "      <td>4</td>\n",
       "      <td>1</td>\n",
       "      <td>1</td>\n",
       "      <td>3</td>\n",
       "      <td>6</td>\n",
       "      <td>5</td>\n",
       "      <td>6</td>\n",
       "      <td>6</td>\n",
       "      <td>5.67</td>\n",
       "      <td>fail</td>\n",
       "    </tr>\n",
       "    <tr>\n",
       "      <td>1</td>\n",
       "      <td>GP</td>\n",
       "      <td>F</td>\n",
       "      <td>17</td>\n",
       "      <td>U</td>\n",
       "      <td>GT3</td>\n",
       "      <td>T</td>\n",
       "      <td>1</td>\n",
       "      <td>1</td>\n",
       "      <td>at_home</td>\n",
       "      <td>other</td>\n",
       "      <td>...</td>\n",
       "      <td>3</td>\n",
       "      <td>1</td>\n",
       "      <td>1</td>\n",
       "      <td>3</td>\n",
       "      <td>4</td>\n",
       "      <td>5</td>\n",
       "      <td>5</td>\n",
       "      <td>6</td>\n",
       "      <td>5.33</td>\n",
       "      <td>fail</td>\n",
       "    </tr>\n",
       "    <tr>\n",
       "      <td>2</td>\n",
       "      <td>GP</td>\n",
       "      <td>F</td>\n",
       "      <td>15</td>\n",
       "      <td>U</td>\n",
       "      <td>LE3</td>\n",
       "      <td>T</td>\n",
       "      <td>1</td>\n",
       "      <td>1</td>\n",
       "      <td>at_home</td>\n",
       "      <td>other</td>\n",
       "      <td>...</td>\n",
       "      <td>2</td>\n",
       "      <td>2</td>\n",
       "      <td>3</td>\n",
       "      <td>3</td>\n",
       "      <td>10</td>\n",
       "      <td>7</td>\n",
       "      <td>8</td>\n",
       "      <td>10</td>\n",
       "      <td>8.33</td>\n",
       "      <td>fail</td>\n",
       "    </tr>\n",
       "    <tr>\n",
       "      <td>3</td>\n",
       "      <td>GP</td>\n",
       "      <td>F</td>\n",
       "      <td>15</td>\n",
       "      <td>U</td>\n",
       "      <td>GT3</td>\n",
       "      <td>T</td>\n",
       "      <td>4</td>\n",
       "      <td>2</td>\n",
       "      <td>health</td>\n",
       "      <td>services</td>\n",
       "      <td>...</td>\n",
       "      <td>2</td>\n",
       "      <td>1</td>\n",
       "      <td>1</td>\n",
       "      <td>5</td>\n",
       "      <td>2</td>\n",
       "      <td>15</td>\n",
       "      <td>14</td>\n",
       "      <td>15</td>\n",
       "      <td>14.67</td>\n",
       "      <td>proficient</td>\n",
       "    </tr>\n",
       "    <tr>\n",
       "      <td>4</td>\n",
       "      <td>GP</td>\n",
       "      <td>F</td>\n",
       "      <td>16</td>\n",
       "      <td>U</td>\n",
       "      <td>GT3</td>\n",
       "      <td>T</td>\n",
       "      <td>3</td>\n",
       "      <td>3</td>\n",
       "      <td>other</td>\n",
       "      <td>other</td>\n",
       "      <td>...</td>\n",
       "      <td>2</td>\n",
       "      <td>1</td>\n",
       "      <td>2</td>\n",
       "      <td>5</td>\n",
       "      <td>4</td>\n",
       "      <td>6</td>\n",
       "      <td>10</td>\n",
       "      <td>10</td>\n",
       "      <td>8.67</td>\n",
       "      <td>fail</td>\n",
       "    </tr>\n",
       "    <tr>\n",
       "      <td>...</td>\n",
       "      <td>...</td>\n",
       "      <td>...</td>\n",
       "      <td>...</td>\n",
       "      <td>...</td>\n",
       "      <td>...</td>\n",
       "      <td>...</td>\n",
       "      <td>...</td>\n",
       "      <td>...</td>\n",
       "      <td>...</td>\n",
       "      <td>...</td>\n",
       "      <td>...</td>\n",
       "      <td>...</td>\n",
       "      <td>...</td>\n",
       "      <td>...</td>\n",
       "      <td>...</td>\n",
       "      <td>...</td>\n",
       "      <td>...</td>\n",
       "      <td>...</td>\n",
       "      <td>...</td>\n",
       "      <td>...</td>\n",
       "      <td>...</td>\n",
       "    </tr>\n",
       "    <tr>\n",
       "      <td>390</td>\n",
       "      <td>MS</td>\n",
       "      <td>M</td>\n",
       "      <td>20</td>\n",
       "      <td>U</td>\n",
       "      <td>LE3</td>\n",
       "      <td>A</td>\n",
       "      <td>2</td>\n",
       "      <td>2</td>\n",
       "      <td>services</td>\n",
       "      <td>services</td>\n",
       "      <td>...</td>\n",
       "      <td>4</td>\n",
       "      <td>4</td>\n",
       "      <td>5</td>\n",
       "      <td>4</td>\n",
       "      <td>11</td>\n",
       "      <td>9</td>\n",
       "      <td>9</td>\n",
       "      <td>9</td>\n",
       "      <td>9.00</td>\n",
       "      <td>fail</td>\n",
       "    </tr>\n",
       "    <tr>\n",
       "      <td>391</td>\n",
       "      <td>MS</td>\n",
       "      <td>M</td>\n",
       "      <td>17</td>\n",
       "      <td>U</td>\n",
       "      <td>LE3</td>\n",
       "      <td>T</td>\n",
       "      <td>3</td>\n",
       "      <td>1</td>\n",
       "      <td>services</td>\n",
       "      <td>services</td>\n",
       "      <td>...</td>\n",
       "      <td>5</td>\n",
       "      <td>3</td>\n",
       "      <td>4</td>\n",
       "      <td>2</td>\n",
       "      <td>3</td>\n",
       "      <td>14</td>\n",
       "      <td>16</td>\n",
       "      <td>16</td>\n",
       "      <td>15.33</td>\n",
       "      <td>proficient</td>\n",
       "    </tr>\n",
       "    <tr>\n",
       "      <td>392</td>\n",
       "      <td>MS</td>\n",
       "      <td>M</td>\n",
       "      <td>21</td>\n",
       "      <td>R</td>\n",
       "      <td>GT3</td>\n",
       "      <td>T</td>\n",
       "      <td>1</td>\n",
       "      <td>1</td>\n",
       "      <td>other</td>\n",
       "      <td>other</td>\n",
       "      <td>...</td>\n",
       "      <td>3</td>\n",
       "      <td>3</td>\n",
       "      <td>3</td>\n",
       "      <td>3</td>\n",
       "      <td>3</td>\n",
       "      <td>10</td>\n",
       "      <td>8</td>\n",
       "      <td>7</td>\n",
       "      <td>8.33</td>\n",
       "      <td>fail</td>\n",
       "    </tr>\n",
       "    <tr>\n",
       "      <td>393</td>\n",
       "      <td>MS</td>\n",
       "      <td>M</td>\n",
       "      <td>18</td>\n",
       "      <td>R</td>\n",
       "      <td>LE3</td>\n",
       "      <td>T</td>\n",
       "      <td>3</td>\n",
       "      <td>2</td>\n",
       "      <td>services</td>\n",
       "      <td>other</td>\n",
       "      <td>...</td>\n",
       "      <td>1</td>\n",
       "      <td>3</td>\n",
       "      <td>4</td>\n",
       "      <td>5</td>\n",
       "      <td>0</td>\n",
       "      <td>11</td>\n",
       "      <td>12</td>\n",
       "      <td>10</td>\n",
       "      <td>11.00</td>\n",
       "      <td>proficient</td>\n",
       "    </tr>\n",
       "    <tr>\n",
       "      <td>394</td>\n",
       "      <td>MS</td>\n",
       "      <td>M</td>\n",
       "      <td>19</td>\n",
       "      <td>U</td>\n",
       "      <td>LE3</td>\n",
       "      <td>T</td>\n",
       "      <td>1</td>\n",
       "      <td>1</td>\n",
       "      <td>other</td>\n",
       "      <td>at_home</td>\n",
       "      <td>...</td>\n",
       "      <td>3</td>\n",
       "      <td>3</td>\n",
       "      <td>3</td>\n",
       "      <td>5</td>\n",
       "      <td>5</td>\n",
       "      <td>8</td>\n",
       "      <td>9</td>\n",
       "      <td>9</td>\n",
       "      <td>8.67</td>\n",
       "      <td>fail</td>\n",
       "    </tr>\n",
       "  </tbody>\n",
       "</table>\n",
       "<p>395 rows × 35 columns</p>\n",
       "</div>"
      ],
      "text/plain": [
       "    school sex  age address famsize Pstatus  Medu  Fedu      Mjob      Fjob  \\\n",
       "0       GP   F   18       U     GT3       A     4     4   at_home   teacher   \n",
       "1       GP   F   17       U     GT3       T     1     1   at_home     other   \n",
       "2       GP   F   15       U     LE3       T     1     1   at_home     other   \n",
       "3       GP   F   15       U     GT3       T     4     2    health  services   \n",
       "4       GP   F   16       U     GT3       T     3     3     other     other   \n",
       "..     ...  ..  ...     ...     ...     ...   ...   ...       ...       ...   \n",
       "390     MS   M   20       U     LE3       A     2     2  services  services   \n",
       "391     MS   M   17       U     LE3       T     3     1  services  services   \n",
       "392     MS   M   21       R     GT3       T     1     1     other     other   \n",
       "393     MS   M   18       R     LE3       T     3     2  services     other   \n",
       "394     MS   M   19       U     LE3       T     1     1     other   at_home   \n",
       "\n",
       "     ... goout Dalc  Walc  health  absences  G1  G2  G3 avg_grade grade_status  \n",
       "0    ...     4    1     1       3         6   5   6   6      5.67         fail  \n",
       "1    ...     3    1     1       3         4   5   5   6      5.33         fail  \n",
       "2    ...     2    2     3       3        10   7   8  10      8.33         fail  \n",
       "3    ...     2    1     1       5         2  15  14  15     14.67   proficient  \n",
       "4    ...     2    1     2       5         4   6  10  10      8.67         fail  \n",
       "..   ...   ...  ...   ...     ...       ...  ..  ..  ..       ...          ...  \n",
       "390  ...     4    4     5       4        11   9   9   9      9.00         fail  \n",
       "391  ...     5    3     4       2         3  14  16  16     15.33   proficient  \n",
       "392  ...     3    3     3       3         3  10   8   7      8.33         fail  \n",
       "393  ...     1    3     4       5         0  11  12  10     11.00   proficient  \n",
       "394  ...     3    3     3       5         5   8   9   9      8.67         fail  \n",
       "\n",
       "[395 rows x 35 columns]"
      ]
     },
     "execution_count": 6,
     "metadata": {},
     "output_type": "execute_result"
    }
   ],
   "source": [
    "# Create a list to store the data\n",
    "grade_status = []\n",
    "\n",
    "# For each row in the column,\n",
    "for row in df['avg_grade']:\n",
    "    if row >= 16:\n",
    "        grade_status.append('advanced')\n",
    "    elif row > 10:\n",
    "        grade_status.append('proficient')\n",
    "    elif row >= 0:\n",
    "        grade_status.append('fail')\n",
    "   \n",
    "        \n",
    "# Create a column from the list\n",
    "df['grade_status'] = grade_status\n",
    "\n",
    "df"
   ]
  },
  {
   "cell_type": "markdown",
   "metadata": {},
   "source": [
    "# Mean Baselines"
   ]
  },
  {
   "cell_type": "code",
   "execution_count": 7,
   "metadata": {},
   "outputs": [
    {
     "data": {
      "text/plain": [
       "proficient    187\n",
       "fail          179\n",
       "advanced       29\n",
       "Name: grade_status, dtype: int64"
      ]
     },
     "execution_count": 7,
     "metadata": {},
     "output_type": "execute_result"
    }
   ],
   "source": [
    "df['grade_status'].value_counts()"
   ]
  },
  {
   "cell_type": "code",
   "execution_count": 8,
   "metadata": {},
   "outputs": [
    {
     "data": {
      "text/plain": [
       "proficient    0.473418\n",
       "fail          0.453165\n",
       "advanced      0.073418\n",
       "Name: grade_status, dtype: float64"
      ]
     },
     "execution_count": 8,
     "metadata": {},
     "output_type": "execute_result"
    }
   ],
   "source": [
    "df['grade_status'].value_counts(normalize= True)"
   ]
  },
  {
   "cell_type": "markdown",
   "metadata": {},
   "source": [
    "## Visualize correlations to look for leakage/dependencies"
   ]
  },
  {
   "cell_type": "code",
   "execution_count": 9,
   "metadata": {},
   "outputs": [
    {
     "data": {
      "image/png": "[encoded data removed]",
      "text/plain": [
       "<Figure size 936x936 with 2 Axes>"
      ]
     },
     "metadata": {
      "needs_background": "light"
     },
     "output_type": "display_data"
    }
   ],
   "source": [
    "plt.figure(figsize=(13,13))\n",
    "sns.heatmap(df.corr(), vmin=-1, cmap='coolwarm', annot=True)\n",
    "plt.show()"
   ]
  },
  {
   "cell_type": "markdown",
   "metadata": {},
   "source": [
    "# Keep original dataframe safe"
   ]
  },
  {
   "cell_type": "code",
   "execution_count": 10,
   "metadata": {},
   "outputs": [],
   "source": [
    "original_df = df"
   ]
  },
  {
   "cell_type": "markdown",
   "metadata": {},
   "source": [
    "# Question: Can we use out of school factors to predict the average grade in a Mathematics class?"
   ]
  },
  {
   "cell_type": "code",
   "execution_count": 12,
   "metadata": {},
   "outputs": [
    {
     "data": {
      "text/plain": [
       "school          0\n",
       "sex             0\n",
       "age             0\n",
       "address         0\n",
       "famsize         0\n",
       "Pstatus         0\n",
       "Medu            0\n",
       "Fedu            0\n",
       "Mjob            0\n",
       "Fjob            0\n",
       "reason          0\n",
       "guardian        0\n",
       "traveltime      0\n",
       "studytime       0\n",
       "failures        0\n",
       "schoolsup       0\n",
       "famsup          0\n",
       "paid            0\n",
       "activities      0\n",
       "nursery         0\n",
       "higher          0\n",
       "internet        0\n",
       "romantic        0\n",
       "famrel          0\n",
       "freetime        0\n",
       "goout           0\n",
       "Dalc            0\n",
       "Walc            0\n",
       "health          0\n",
       "absences        0\n",
       "G1              0\n",
       "G2              0\n",
       "G3              0\n",
       "avg_grade       0\n",
       "grade_status    0\n",
       "dtype: int64"
      ]
     },
     "execution_count": 12,
     "metadata": {},
     "output_type": "execute_result"
    }
   ],
   "source": [
    "## check for missing values\n",
    "df.isnull().sum()"
   ]
  },
  {
   "cell_type": "code",
   "execution_count": 13,
   "metadata": {},
   "outputs": [],
   "source": [
    "# label encoding the data \n",
    "from sklearn.preprocessing import LabelEncoder \n",
    "  \n",
    "le = LabelEncoder() \n",
    "\n",
    "df['school']= le.fit_transform(df['school']) \n",
    "df['sex']= le.fit_transform(df['sex']) \n",
    "df['address']= le.fit_transform(df['address'])\n",
    "df['famsize']= le.fit_transform(df['famsize']) \n",
    "df['Pstatus']= le.fit_transform(df['Pstatus']) \n",
    "df['Mjob']= le.fit_transform(df['Mjob']) \n",
    "df['Fjob']= le.fit_transform(df['Fjob']) \n",
    "df['reason']= le.fit_transform(df['reason']) \n",
    "df['guardian']= le.fit_transform(df['guardian']) \n",
    "df['schoolsup']= le.fit_transform(df['schoolsup']) \n",
    "df['famsup']= le.fit_transform(df['famsup']) \n",
    "df['paid']= le.fit_transform(df['paid']) \n",
    "df['activities']= le.fit_transform(df['activities']) \n",
    "df['nursery']= le.fit_transform(df['nursery']) \n",
    "df['higher']= le.fit_transform(df['higher']) \n",
    "df['internet']= le.fit_transform(df['internet']) \n",
    "df['romantic']= le.fit_transform(df['romantic']) \n",
    "df['grade_status']= le.fit_transform(df['grade_status']) "
   ]
  },
  {
   "cell_type": "markdown",
   "metadata": {},
   "source": [
    "# Features Matrix and Target Vector"
   ]
  },
  {
   "cell_type": "code",
   "execution_count": 14,
   "metadata": {},
   "outputs": [],
   "source": [
    "## features matrix without target (grade_status) and all grade features\n",
    "## also remove internet, romantic, freetime, famsize\n",
    "X = df.drop(columns = ['grade_status', 'avg_grade', 'G1', 'G2', 'G3',\n",
    "                        'romantic', 'freetime', 'famsize', 'internet'])\n",
    "\n",
    "## target vector dependent variable final grade (G3)\n",
    "y = df['grade_status']"
   ]
  },
  {
   "cell_type": "code",
   "execution_count": 16,
   "metadata": {},
   "outputs": [],
   "source": [
    "from sklearn.model_selection import train_test_split\n",
    "\n",
    "## first split into train and test \n",
    "X_train, X_test, y_train, y_test = train_test_split(X, y, test_size=0.20, random_state=14)\n",
    "\n",
    "\n",
    "## next split train into training and validation\n",
    "X_train, X_val, y_train, y_val = train_test_split(X_train, y_train, test_size=0.20, random_state=14)"
   ]
  },
  {
   "cell_type": "code",
   "execution_count": 17,
   "metadata": {},
   "outputs": [],
   "source": [
    "import xgboost as xgb\n",
    "xgbc = xgb.XGBClassifier(learning_rate=0.5,\n",
    "                    n_estimators=150,\n",
    "                    max_depth=6,\n",
    "                    min_child_weight=0,\n",
    "                    gamma=0,\n",
    "                    reg_lambda=1,\n",
    "                    subsample=1,\n",
    "                    colsample_bytree=0.75,\n",
    "                    scale_pos_weight=1,\n",
    "                    objective='multi:softprob',\n",
    "                    num_class=3,\n",
    "                    random_state=14)\n",
    "\n",
    "mcl = xgbc.fit(X_train, y_train, eval_metric='merror')\n",
    "y_pred = mcl.predict(X_train)\n",
    "y_proba = mcl.predict_proba(X_train)"
   ]
  },
  {
   "cell_type": "code",
   "execution_count": 19,
   "metadata": {},
   "outputs": [
    {
     "name": "stdout",
     "output_type": "stream",
     "text": [
      "[0]\tvalidation_0-merror:0.361111\tvalidation_1-merror:0.4375\n",
      "Multiple eval metrics have been passed: 'validation_1-merror' will be used for early stopping.\n",
      "\n",
      "Will train until validation_1-merror hasn't improved in 100 rounds.\n",
      "[1]\tvalidation_0-merror:0.31746\tvalidation_1-merror:0.46875\n",
      "[2]\tvalidation_0-merror:0.325397\tvalidation_1-merror:0.375\n",
      "[3]\tvalidation_0-merror:0.31746\tvalidation_1-merror:0.375\n",
      "[4]\tvalidation_0-merror:0.321429\tvalidation_1-merror:0.34375\n",
      "[5]\tvalidation_0-merror:0.321429\tvalidation_1-merror:0.34375\n",
      "[6]\tvalidation_0-merror:0.309524\tvalidation_1-merror:0.328125\n",
      "[7]\tvalidation_0-merror:0.313492\tvalidation_1-merror:0.328125\n",
      "[8]\tvalidation_0-merror:0.325397\tvalidation_1-merror:0.34375\n",
      "[9]\tvalidation_0-merror:0.321429\tvalidation_1-merror:0.328125\n",
      "[10]\tvalidation_0-merror:0.321429\tvalidation_1-merror:0.34375\n",
      "[11]\tvalidation_0-merror:0.301587\tvalidation_1-merror:0.34375\n",
      "[12]\tvalidation_0-merror:0.293651\tvalidation_1-merror:0.328125\n",
      "[13]\tvalidation_0-merror:0.281746\tvalidation_1-merror:0.328125\n",
      "[14]\tvalidation_0-merror:0.281746\tvalidation_1-merror:0.328125\n",
      "[15]\tvalidation_0-merror:0.281746\tvalidation_1-merror:0.328125\n",
      "[16]\tvalidation_0-merror:0.269841\tvalidation_1-merror:0.3125\n",
      "[17]\tvalidation_0-merror:0.265873\tvalidation_1-merror:0.3125\n",
      "[18]\tvalidation_0-merror:0.246032\tvalidation_1-merror:0.3125\n",
      "[19]\tvalidation_0-merror:0.234127\tvalidation_1-merror:0.3125\n",
      "[20]\tvalidation_0-merror:0.25\tvalidation_1-merror:0.296875\n",
      "[21]\tvalidation_0-merror:0.242063\tvalidation_1-merror:0.296875\n",
      "[22]\tvalidation_0-merror:0.238095\tvalidation_1-merror:0.296875\n",
      "[23]\tvalidation_0-merror:0.234127\tvalidation_1-merror:0.296875\n",
      "[24]\tvalidation_0-merror:0.218254\tvalidation_1-merror:0.296875\n",
      "[25]\tvalidation_0-merror:0.22619\tvalidation_1-merror:0.296875\n",
      "[26]\tvalidation_0-merror:0.210317\tvalidation_1-merror:0.3125\n",
      "[27]\tvalidation_0-merror:0.198413\tvalidation_1-merror:0.296875\n",
      "[28]\tvalidation_0-merror:0.190476\tvalidation_1-merror:0.296875\n",
      "[29]\tvalidation_0-merror:0.174603\tvalidation_1-merror:0.3125\n",
      "[30]\tvalidation_0-merror:0.178571\tvalidation_1-merror:0.28125\n",
      "[31]\tvalidation_0-merror:0.186508\tvalidation_1-merror:0.3125\n",
      "[32]\tvalidation_0-merror:0.174603\tvalidation_1-merror:0.296875\n",
      "[33]\tvalidation_0-merror:0.174603\tvalidation_1-merror:0.3125\n",
      "[34]\tvalidation_0-merror:0.174603\tvalidation_1-merror:0.296875\n",
      "[35]\tvalidation_0-merror:0.170635\tvalidation_1-merror:0.296875\n",
      "[36]\tvalidation_0-merror:0.15873\tvalidation_1-merror:0.296875\n",
      "[37]\tvalidation_0-merror:0.154762\tvalidation_1-merror:0.296875\n",
      "[38]\tvalidation_0-merror:0.154762\tvalidation_1-merror:0.296875\n",
      "[39]\tvalidation_0-merror:0.150794\tvalidation_1-merror:0.296875\n",
      "[40]\tvalidation_0-merror:0.142857\tvalidation_1-merror:0.296875\n",
      "[41]\tvalidation_0-merror:0.134921\tvalidation_1-merror:0.296875\n",
      "[42]\tvalidation_0-merror:0.134921\tvalidation_1-merror:0.296875\n",
      "[43]\tvalidation_0-merror:0.130952\tvalidation_1-merror:0.296875\n",
      "[44]\tvalidation_0-merror:0.126984\tvalidation_1-merror:0.296875\n",
      "[45]\tvalidation_0-merror:0.126984\tvalidation_1-merror:0.28125\n",
      "[46]\tvalidation_0-merror:0.126984\tvalidation_1-merror:0.28125\n",
      "[47]\tvalidation_0-merror:0.126984\tvalidation_1-merror:0.28125\n",
      "[48]\tvalidation_0-merror:0.123016\tvalidation_1-merror:0.28125\n",
      "[49]\tvalidation_0-merror:0.123016\tvalidation_1-merror:0.28125\n",
      "[50]\tvalidation_0-merror:0.119048\tvalidation_1-merror:0.28125\n",
      "[51]\tvalidation_0-merror:0.115079\tvalidation_1-merror:0.28125\n",
      "[52]\tvalidation_0-merror:0.115079\tvalidation_1-merror:0.28125\n",
      "[53]\tvalidation_0-merror:0.115079\tvalidation_1-merror:0.28125\n",
      "[54]\tvalidation_0-merror:0.115079\tvalidation_1-merror:0.28125\n",
      "[55]\tvalidation_0-merror:0.111111\tvalidation_1-merror:0.28125\n",
      "[56]\tvalidation_0-merror:0.107143\tvalidation_1-merror:0.28125\n",
      "[57]\tvalidation_0-merror:0.107143\tvalidation_1-merror:0.28125\n",
      "[58]\tvalidation_0-merror:0.107143\tvalidation_1-merror:0.28125\n",
      "[59]\tvalidation_0-merror:0.107143\tvalidation_1-merror:0.296875\n",
      "[60]\tvalidation_0-merror:0.103175\tvalidation_1-merror:0.296875\n",
      "[61]\tvalidation_0-merror:0.099206\tvalidation_1-merror:0.296875\n",
      "[62]\tvalidation_0-merror:0.095238\tvalidation_1-merror:0.296875\n",
      "[63]\tvalidation_0-merror:0.095238\tvalidation_1-merror:0.296875\n",
      "[64]\tvalidation_0-merror:0.087302\tvalidation_1-merror:0.296875\n",
      "[65]\tvalidation_0-merror:0.087302\tvalidation_1-merror:0.296875\n",
      "[66]\tvalidation_0-merror:0.095238\tvalidation_1-merror:0.296875\n",
      "[67]\tvalidation_0-merror:0.079365\tvalidation_1-merror:0.296875\n",
      "[68]\tvalidation_0-merror:0.075397\tvalidation_1-merror:0.296875\n",
      "[69]\tvalidation_0-merror:0.075397\tvalidation_1-merror:0.296875\n",
      "[70]\tvalidation_0-merror:0.075397\tvalidation_1-merror:0.296875\n",
      "[71]\tvalidation_0-merror:0.071429\tvalidation_1-merror:0.296875\n",
      "[72]\tvalidation_0-merror:0.071429\tvalidation_1-merror:0.296875\n",
      "[73]\tvalidation_0-merror:0.071429\tvalidation_1-merror:0.296875\n",
      "[74]\tvalidation_0-merror:0.071429\tvalidation_1-merror:0.296875\n",
      "[75]\tvalidation_0-merror:0.06746\tvalidation_1-merror:0.296875\n",
      "[76]\tvalidation_0-merror:0.06746\tvalidation_1-merror:0.296875\n",
      "[77]\tvalidation_0-merror:0.06746\tvalidation_1-merror:0.296875\n",
      "[78]\tvalidation_0-merror:0.06746\tvalidation_1-merror:0.296875\n",
      "[79]\tvalidation_0-merror:0.06746\tvalidation_1-merror:0.296875\n",
      "[80]\tvalidation_0-merror:0.06746\tvalidation_1-merror:0.296875\n",
      "[81]\tvalidation_0-merror:0.06746\tvalidation_1-merror:0.296875\n",
      "[82]\tvalidation_0-merror:0.06746\tvalidation_1-merror:0.296875\n",
      "[83]\tvalidation_0-merror:0.063492\tvalidation_1-merror:0.296875\n",
      "[84]\tvalidation_0-merror:0.063492\tvalidation_1-merror:0.296875\n",
      "[85]\tvalidation_0-merror:0.063492\tvalidation_1-merror:0.296875\n",
      "[86]\tvalidation_0-merror:0.063492\tvalidation_1-merror:0.296875\n",
      "[87]\tvalidation_0-merror:0.059524\tvalidation_1-merror:0.28125\n",
      "[88]\tvalidation_0-merror:0.063492\tvalidation_1-merror:0.3125\n",
      "[89]\tvalidation_0-merror:0.063492\tvalidation_1-merror:0.3125\n",
      "[90]\tvalidation_0-merror:0.063492\tvalidation_1-merror:0.3125\n",
      "[91]\tvalidation_0-merror:0.063492\tvalidation_1-merror:0.328125\n",
      "[92]\tvalidation_0-merror:0.055556\tvalidation_1-merror:0.328125\n",
      "[93]\tvalidation_0-merror:0.055556\tvalidation_1-merror:0.328125\n",
      "[94]\tvalidation_0-merror:0.051587\tvalidation_1-merror:0.328125\n",
      "[95]\tvalidation_0-merror:0.047619\tvalidation_1-merror:0.328125\n",
      "[96]\tvalidation_0-merror:0.047619\tvalidation_1-merror:0.328125\n",
      "[97]\tvalidation_0-merror:0.047619\tvalidation_1-merror:0.328125\n",
      "[98]\tvalidation_0-merror:0.047619\tvalidation_1-merror:0.3125\n",
      "[99]\tvalidation_0-merror:0.047619\tvalidation_1-merror:0.3125\n",
      "[100]\tvalidation_0-merror:0.043651\tvalidation_1-merror:0.3125\n",
      "[101]\tvalidation_0-merror:0.043651\tvalidation_1-merror:0.328125\n",
      "[102]\tvalidation_0-merror:0.043651\tvalidation_1-merror:0.3125\n",
      "[103]\tvalidation_0-merror:0.043651\tvalidation_1-merror:0.3125\n",
      "[104]\tvalidation_0-merror:0.043651\tvalidation_1-merror:0.328125\n",
      "[105]\tvalidation_0-merror:0.043651\tvalidation_1-merror:0.328125\n",
      "[106]\tvalidation_0-merror:0.043651\tvalidation_1-merror:0.328125\n",
      "[107]\tvalidation_0-merror:0.043651\tvalidation_1-merror:0.328125\n",
      "[108]\tvalidation_0-merror:0.043651\tvalidation_1-merror:0.328125\n",
      "[109]\tvalidation_0-merror:0.043651\tvalidation_1-merror:0.328125\n",
      "[110]\tvalidation_0-merror:0.043651\tvalidation_1-merror:0.328125\n",
      "[111]\tvalidation_0-merror:0.043651\tvalidation_1-merror:0.296875\n",
      "[112]\tvalidation_0-merror:0.043651\tvalidation_1-merror:0.3125\n",
      "[113]\tvalidation_0-merror:0.043651\tvalidation_1-merror:0.296875\n",
      "[114]\tvalidation_0-merror:0.043651\tvalidation_1-merror:0.3125\n",
      "[115]\tvalidation_0-merror:0.043651\tvalidation_1-merror:0.296875\n",
      "[116]\tvalidation_0-merror:0.043651\tvalidation_1-merror:0.296875\n",
      "[117]\tvalidation_0-merror:0.043651\tvalidation_1-merror:0.296875\n",
      "[118]\tvalidation_0-merror:0.039683\tvalidation_1-merror:0.296875\n",
      "[119]\tvalidation_0-merror:0.039683\tvalidation_1-merror:0.296875\n",
      "[120]\tvalidation_0-merror:0.039683\tvalidation_1-merror:0.3125\n",
      "[121]\tvalidation_0-merror:0.035714\tvalidation_1-merror:0.3125\n",
      "[122]\tvalidation_0-merror:0.035714\tvalidation_1-merror:0.296875\n",
      "[123]\tvalidation_0-merror:0.031746\tvalidation_1-merror:0.3125\n",
      "[124]\tvalidation_0-merror:0.031746\tvalidation_1-merror:0.328125\n",
      "[125]\tvalidation_0-merror:0.031746\tvalidation_1-merror:0.3125\n",
      "[126]\tvalidation_0-merror:0.031746\tvalidation_1-merror:0.3125\n",
      "[127]\tvalidation_0-merror:0.027778\tvalidation_1-merror:0.296875\n",
      "[128]\tvalidation_0-merror:0.027778\tvalidation_1-merror:0.296875\n"
     ]
    },
    {
     "name": "stdout",
     "output_type": "stream",
     "text": [
      "[129]\tvalidation_0-merror:0.027778\tvalidation_1-merror:0.296875\n",
      "[130]\tvalidation_0-merror:0.027778\tvalidation_1-merror:0.296875\n",
      "Stopping. Best iteration:\n",
      "[30]\tvalidation_0-merror:0.178571\tvalidation_1-merror:0.28125\n",
      "\n"
     ]
    },
    {
     "data": {
      "text/plain": [
       "XGBClassifier(base_score=0.5, booster='gbtree', colsample_bylevel=1,\n",
       "              colsample_bynode=1, colsample_bytree=1, gamma=0,\n",
       "              learning_rate=0.1, max_delta_step=0, max_depth=3,\n",
       "              min_child_weight=1, missing=None, n_estimators=1000, n_jobs=-1,\n",
       "              nthread=None, objective='multi:softprob', random_state=0,\n",
       "              reg_alpha=0, reg_lambda=1, scale_pos_weight=1, seed=None,\n",
       "              silent=None, subsample=1, verbosity=1)"
      ]
     },
     "execution_count": 19,
     "metadata": {},
     "output_type": "execute_result"
    }
   ],
   "source": [
    "import category_encoders as ce\n",
    "from sklearn.pipeline import make_pipeline\n",
    "from xgboost import XGBClassifier\n",
    "\n",
    "processor = make_pipeline(\n",
    "    ce.OrdinalEncoder(),\n",
    "    \n",
    ")\n",
    "\n",
    "X_train_processed = processor.fit_transform(X_train)\n",
    "X_val_processed = processor.transform(X_val)\n",
    "\n",
    "eval_set = [(X_train_processed, y_train), \n",
    "            (X_val_processed, y_val)]\n",
    "\n",
    "## scoring with merror because it is a multiclass situation\n",
    "\n",
    "model = XGBClassifier(n_estimators=1000, n_jobs=-1)\n",
    "model.fit(X_train_processed, y_train, eval_set=eval_set, early_stopping_rounds=100)"
   ]
  },
  {
   "cell_type": "code",
   "execution_count": 22,
   "metadata": {},
   "outputs": [
    {
     "data": {
      "text/plain": [
       "1.0"
      ]
     },
     "execution_count": 22,
     "metadata": {},
     "output_type": "execute_result"
    }
   ],
   "source": [
    "from sklearn.metrics import accuracy_score\n",
    "accuracy_score(y_train, y_pred)"
   ]
  },
  {
   "cell_type": "code",
   "execution_count": 33,
   "metadata": {},
   "outputs": [],
   "source": [
    "y_pred_val = mcl.predict(X_val)\n",
    "y_pred_val1 = model.predict(X_val)"
   ]
  },
  {
   "cell_type": "code",
   "execution_count": 24,
   "metadata": {},
   "outputs": [
    {
     "data": {
      "text/plain": [
       "0.640625"
      ]
     },
     "execution_count": 24,
     "metadata": {},
     "output_type": "execute_result"
    }
   ],
   "source": [
    "accuracy_score(y_val, y_pred_val)"
   ]
  },
  {
   "cell_type": "code",
   "execution_count": 34,
   "metadata": {},
   "outputs": [
    {
     "data": {
      "text/plain": [
       "0.71875"
      ]
     },
     "execution_count": 34,
     "metadata": {},
     "output_type": "execute_result"
    }
   ],
   "source": [
    "accuracy_score(y_val, y_pred_val1)"
   ]
  },
  {
   "cell_type": "code",
   "execution_count": 35,
   "metadata": {},
   "outputs": [],
   "source": [
    "y_pred_test = mcl.predict(X_test)\n",
    "y_pred_test1 = model.predict(X_test)"
   ]
  },
  {
   "cell_type": "code",
   "execution_count": 26,
   "metadata": {},
   "outputs": [
    {
     "data": {
      "text/plain": [
       "0.5063291139240507"
      ]
     },
     "execution_count": 26,
     "metadata": {},
     "output_type": "execute_result"
    }
   ],
   "source": [
    "accuracy_score(y_test, y_pred_test)"
   ]
  },
  {
   "cell_type": "code",
   "execution_count": 36,
   "metadata": {},
   "outputs": [
    {
     "data": {
      "text/plain": [
       "0.5316455696202531"
      ]
     },
     "execution_count": 36,
     "metadata": {},
     "output_type": "execute_result"
    }
   ],
   "source": [
    "accuracy_score(y_test, y_pred_test1)"
   ]
  },
  {
   "cell_type": "code",
   "execution_count": 27,
   "metadata": {},
   "outputs": [
    {
     "data": {
      "text/plain": [
       "array([[[72,  0],\n",
       "        [ 6,  1]],\n",
       "\n",
       "       [[25, 18],\n",
       "        [16, 20]],\n",
       "\n",
       "       [[22, 21],\n",
       "        [17, 19]]])"
      ]
     },
     "execution_count": 27,
     "metadata": {},
     "output_type": "execute_result"
    }
   ],
   "source": [
    "## labels=[\"ant\", \"bird\", \"cat\"]\n",
    "from sklearn.metrics import multilabel_confusion_matrix\n",
    "multilabel_confusion_matrix(y_test, y_pred_test)"
   ]
  },
  {
   "cell_type": "code",
   "execution_count": 29,
   "metadata": {},
   "outputs": [
    {
     "name": "stdout",
     "output_type": "stream",
     "text": [
      "              precision    recall  f1-score   support\n",
      "\n",
      "           0       1.00      0.14      0.25         7\n",
      "           1       0.53      0.56      0.54        36\n",
      "           2       0.47      0.53      0.50        36\n",
      "\n",
      "    accuracy                           0.51        79\n",
      "   macro avg       0.67      0.41      0.43        79\n",
      "weighted avg       0.54      0.51      0.50        79\n",
      "\n"
     ]
    }
   ],
   "source": [
    "from sklearn.metrics import classification_report\n",
    "print(classification_report(y_test, y_pred_test))"
   ]
  },
  {
   "cell_type": "code",
   "execution_count": 31,
   "metadata": {},
   "outputs": [],
   "source": [
    "x = y_test == y_pred_test"
   ]
  },
  {
   "cell_type": "code",
   "execution_count": 32,
   "metadata": {},
   "outputs": [
    {
     "data": {
      "text/plain": [
       "True     40\n",
       "False    39\n",
       "Name: grade_status, dtype: int64"
      ]
     },
     "execution_count": 32,
     "metadata": {},
     "output_type": "execute_result"
    }
   ],
   "source": [
    "x.value_counts()"
   ]
  },
  {
   "cell_type": "code",
   "execution_count": 37,
   "metadata": {},
   "outputs": [
    {
     "data": {
      "text/plain": [
       "Pipeline(memory=None,\n",
       "         steps=[('ordinalencoder',\n",
       "                 OrdinalEncoder(cols=[], drop_invariant=False,\n",
       "                                handle_missing='value', handle_unknown='value',\n",
       "                                mapping=[], return_df=True, verbose=0)),\n",
       "                ('simpleimputer',\n",
       "                 SimpleImputer(add_indicator=False, copy=True, fill_value=None,\n",
       "                               missing_values=nan, strategy='most_frequent',\n",
       "                               verbose=0)),\n",
       "                ('randomforestclassifier',\n",
       "                 RandomForestClassifier(bootstrap=True, class_weight=None,\n",
       "                                        criterion='gini', max_depth=None,\n",
       "                                        max_features='auto',\n",
       "                                        max_leaf_nodes=None,\n",
       "                                        min_impurity_decrease=0.0,\n",
       "                                        min_impurity_split=None,\n",
       "                                        min_samples_leaf=1, min_samples_split=2,\n",
       "                                        min_weight_fraction_leaf=0.0,\n",
       "                                        n_estimators=72, n_jobs=-1,\n",
       "                                        oob_score=False, random_state=14,\n",
       "                                        verbose=0, warm_start=False))],\n",
       "         verbose=False)"
      ]
     },
     "execution_count": 37,
     "metadata": {},
     "output_type": "execute_result"
    }
   ],
   "source": [
    "## change the pipline\n",
    "import category_encoders as ce\n",
    "from sklearn.impute import SimpleImputer\n",
    "from sklearn.ensemble import RandomForestClassifier\n",
    "from sklearn.pipeline import make_pipeline\n",
    "\n",
    "\n",
    "pipeline = make_pipeline(\n",
    "    ce.OrdinalEncoder(), \n",
    "    SimpleImputer(strategy='most_frequent'),  \n",
    "    RandomForestClassifier(n_estimators=72, random_state=14, n_jobs=-1)\n",
    ")\n",
    "\n",
    "## Fit on train\n",
    "pipeline.fit(X_train, y_train)"
   ]
  },
  {
   "cell_type": "code",
   "execution_count": 38,
   "metadata": {},
   "outputs": [],
   "source": [
    "y_pred_val2 = pipeline.predict(X_val)"
   ]
  },
  {
   "cell_type": "code",
   "execution_count": 39,
   "metadata": {},
   "outputs": [
    {
     "data": {
      "text/plain": [
       "0.65625"
      ]
     },
     "execution_count": 39,
     "metadata": {},
     "output_type": "execute_result"
    }
   ],
   "source": [
    "accuracy_score(y_val, y_pred_val2)"
   ]
  },
  {
   "cell_type": "code",
   "execution_count": 40,
   "metadata": {},
   "outputs": [
    {
     "data": {
      "text/plain": [
       "0.5443037974683544"
      ]
     },
     "execution_count": 40,
     "metadata": {},
     "output_type": "execute_result"
    }
   ],
   "source": [
    "y_pred_test2 = pipeline.predict(X_test)\n",
    "accuracy_score(y_test, y_pred_test2)"
   ]
  },
  {
   "cell_type": "code",
   "execution_count": null,
   "metadata": {},
   "outputs": [],
   "source": []
  }
 ],
 "metadata": {
  "kernelspec": {
   "display_name": "Python 3",
   "language": "python",
   "name": "python3"
  },
  "language_info": {
   "codemirror_mode": {
    "name": "ipython",
    "version": 3
   },
   "file_extension": ".py",
   "mimetype": "text/x-python",
   "name": "python",
   "nbconvert_exporter": "python",
   "pygments_lexer": "ipython3",
   "version": "3.7.4"
  }
 },
 "nbformat": 4,
 "nbformat_minor": 2
}
